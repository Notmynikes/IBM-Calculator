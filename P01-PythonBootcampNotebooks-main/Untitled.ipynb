{
 "cells": [
  {
   "cell_type": "code",
   "execution_count": 1,
   "id": "ce2b764a",
   "metadata": {},
   "outputs": [],
   "source": [
    "x=5\n",
    "y=2"
   ]
  },
  {
   "cell_type": "code",
   "execution_count": 2,
   "id": "6ffe77cd",
   "metadata": {},
   "outputs": [
    {
     "data": {
      "text/plain": [
       "True"
      ]
     },
     "execution_count": 2,
     "metadata": {},
     "output_type": "execute_result"
    }
   ],
   "source": [
    "x>y"
   ]
  },
  {
   "cell_type": "code",
   "execution_count": 3,
   "id": "281c16b6",
   "metadata": {},
   "outputs": [
    {
     "data": {
      "text/plain": [
       "False"
      ]
     },
     "execution_count": 3,
     "metadata": {},
     "output_type": "execute_result"
    }
   ],
   "source": [
    "False and True"
   ]
  },
  {
   "cell_type": "code",
   "execution_count": 4,
   "id": "932223a3",
   "metadata": {},
   "outputs": [
    {
     "data": {
      "text/plain": [
       "False"
      ]
     },
     "execution_count": 4,
     "metadata": {},
     "output_type": "execute_result"
    }
   ],
   "source": [
    "not 1==1"
   ]
  },
  {
   "cell_type": "code",
   "execution_count": 5,
   "id": "abf3cabe",
   "metadata": {},
   "outputs": [
    {
     "data": {
      "text/plain": [
       "True"
      ]
     },
     "execution_count": 5,
     "metadata": {},
     "output_type": "execute_result"
    }
   ],
   "source": [
    "not 1==2"
   ]
  },
  {
   "cell_type": "code",
   "execution_count": 14,
   "id": "30b5656e",
   "metadata": {},
   "outputs": [],
   "source": [
    "my_superhero=\"Batman\""
   ]
  },
  {
   "cell_type": "code",
   "execution_count": 15,
   "id": "be2bfba7",
   "metadata": {},
   "outputs": [
    {
     "data": {
      "text/plain": [
       "True"
      ]
     },
     "execution_count": 15,
     "metadata": {},
     "output_type": "execute_result"
    }
   ],
   "source": [
    "my_superhero==\"Batman\""
   ]
  },
  {
   "cell_type": "code",
   "execution_count": 16,
   "id": "0e1e1ee5",
   "metadata": {},
   "outputs": [
    {
     "data": {
      "text/plain": [
       "False"
      ]
     },
     "execution_count": 16,
     "metadata": {},
     "output_type": "execute_result"
    }
   ],
   "source": [
    "my_superhero==\"Superman\""
   ]
  },
  {
   "cell_type": "code",
   "execution_count": 17,
   "id": "cb17c5d3",
   "metadata": {},
   "outputs": [
    {
     "name": "stdout",
     "output_type": "stream",
     "text": [
      "batmannnn\n",
      "ege karaduman\n",
      "Helloo python\n"
     ]
    }
   ],
   "source": [
    "if my_superhero==\"Batman\":\n",
    "    print(\"batmannnn\")\n",
    "    print(\"ege karaduman\")\n",
    "########-------------#######\n",
    "print(\"Helloo python\")"
   ]
  },
  {
   "cell_type": "code",
   "execution_count": 46,
   "id": "179db770",
   "metadata": {},
   "outputs": [
    {
     "name": "stdout",
     "output_type": "stream",
     "text": [
      "enter superhero:sadasd\n"
     ]
    }
   ],
   "source": [
    "my_superhero=input(\"enter superhero:\")"
   ]
  },
  {
   "cell_type": "code",
   "execution_count": 48,
   "id": "d30f5b1a",
   "metadata": {
    "scrolled": true
   },
   "outputs": [
    {
     "name": "stdout",
     "output_type": "stream",
     "text": [
      ":(\n"
     ]
    }
   ],
   "source": [
    "if my_superhero==\"Superman\":\n",
    "    print(\"Superman\")\n",
    "elif my_superhero==\"Batman\":\n",
    "    print(\"Batman\")\n",
    "elif my_superhero==\"Ironman\":\n",
    "    print(\"Ironman\")\n",
    "else:\n",
    "    print(\":(\")\n",
    "    \n",
    "\n",
    "\n",
    "    "
   ]
  },
  {
   "cell_type": "code",
   "execution_count": 58,
   "id": "f846d453",
   "metadata": {},
   "outputs": [
    {
     "name": "stdout",
     "output_type": "stream",
     "text": [
      "enter superhero:BW\n"
     ]
    }
   ],
   "source": [
    "my_superhero=input(\"enter superhero:\")"
   ]
  },
  {
   "cell_type": "code",
   "execution_count": 59,
   "id": "0c1bc6c0",
   "metadata": {},
   "outputs": [],
   "source": [
    "my_superhero_list=[\"Spiderman\",\"Ironman\",\"Thor\",\"BW\"]"
   ]
  },
  {
   "cell_type": "code",
   "execution_count": 60,
   "id": "985503e5",
   "metadata": {},
   "outputs": [
    {
     "name": "stdout",
     "output_type": "stream",
     "text": [
      ":)\n"
     ]
    }
   ],
   "source": [
    "if my_superhero in my_superhero_list:\n",
    "    print(\":)\")\n",
    "else:\n",
    "    print(\":(\")"
   ]
  },
  {
   "cell_type": "code",
   "execution_count": 61,
   "id": "91ff7512",
   "metadata": {},
   "outputs": [],
   "source": [
    "#for loop,while loop"
   ]
  },
  {
   "cell_type": "code",
   "execution_count": 62,
   "id": "86a809bc",
   "metadata": {},
   "outputs": [],
   "source": [
    "my_list=[10,20,30,40,50,60,70,]"
   ]
  },
  {
   "cell_type": "code",
   "execution_count": 64,
   "id": "b30e8fa8",
   "metadata": {},
   "outputs": [
    {
     "data": {
      "text/plain": [
       "20"
      ]
     },
     "execution_count": 64,
     "metadata": {},
     "output_type": "execute_result"
    }
   ],
   "source": [
    "my_list[0]*2"
   ]
  },
  {
   "cell_type": "code",
   "execution_count": 65,
   "id": "6f4b5071",
   "metadata": {},
   "outputs": [
    {
     "data": {
      "text/plain": [
       "4.0"
      ]
     },
     "execution_count": 65,
     "metadata": {},
     "output_type": "execute_result"
    }
   ],
   "source": [
    "10/5*2\n"
   ]
  },
  {
   "cell_type": "code",
   "execution_count": 77,
   "id": "3b9b0f9d",
   "metadata": {},
   "outputs": [
    {
     "name": "stdout",
     "output_type": "stream",
     "text": [
      "10\n",
      "20\n",
      "30\n",
      "40\n",
      "50\n",
      "60\n",
      "70\n"
     ]
    }
   ],
   "source": [
    "for num in my_list:\n",
    "    print(num)\n",
    "    "
   ]
  },
  {
   "cell_type": "code",
   "execution_count": 78,
   "id": "52763322",
   "metadata": {},
   "outputs": [
    {
     "data": {
      "text/plain": [
       "int"
      ]
     },
     "execution_count": 78,
     "metadata": {},
     "output_type": "execute_result"
    }
   ],
   "source": [
    "type(my_list[0])"
   ]
  },
  {
   "cell_type": "code",
   "execution_count": 79,
   "id": "80dc2a69",
   "metadata": {},
   "outputs": [
    {
     "data": {
      "text/plain": [
       "list"
      ]
     },
     "execution_count": 79,
     "metadata": {},
     "output_type": "execute_result"
    }
   ],
   "source": [
    "type(my_list)"
   ]
  },
  {
   "cell_type": "code",
   "execution_count": 80,
   "id": "01ee887e",
   "metadata": {},
   "outputs": [
    {
     "name": "stdout",
     "output_type": "stream",
     "text": [
      "4.0\n",
      "8.0\n",
      "12.0\n",
      "16.0\n",
      "20.0\n",
      "24.0\n",
      "28.0\n"
     ]
    }
   ],
   "source": [
    "for x in my_list:\n",
    "    new_number=x/5*2\n",
    "    print(new_number)"
   ]
  },
  {
   "cell_type": "code",
   "execution_count": 81,
   "id": "1a550faf",
   "metadata": {},
   "outputs": [],
   "source": [
    "liste =[1,2,3,4,5,6,7,8,9]"
   ]
  },
  {
   "cell_type": "code",
   "execution_count": 102,
   "id": "930a2b79",
   "metadata": {},
   "outputs": [
    {
     "name": "stdout",
     "output_type": "stream",
     "text": [
      "Rakamların Kare ve Küpleri\n",
      "Karesi:\n",
      "1\n",
      "4\n",
      "9\n",
      "16\n",
      "25\n",
      "36\n",
      "49\n",
      "64\n",
      "81\n",
      "Küpü:\n",
      "1\n",
      "8\n",
      "27\n",
      "64\n",
      "125\n",
      "216\n",
      "343\n",
      "512\n",
      "729\n"
     ]
    }
   ],
   "source": [
    "print(\"Rakamların Kare ve Küpleri\")\n",
    "print(\"Karesi:\")\n",
    "for t in liste:\n",
    "    karesi=t*t\n",
    "    print(karesi)\n",
    "print(\"Küpü:\")\n",
    "for t in liste:\n",
    "    küpü=t*t*t\n",
    "    print(küpü)"
   ]
  },
  {
   "cell_type": "code",
   "execution_count": 103,
   "id": "57271f9b",
   "metadata": {},
   "outputs": [],
   "source": [
    "my_list=[10,20,30,40,50,60,70]"
   ]
  },
  {
   "cell_type": "code",
   "execution_count": 104,
   "id": "c0e2e957",
   "metadata": {},
   "outputs": [
    {
     "data": {
      "text/plain": [
       "[10, 20, 30, 40, 50, 60, 70]"
      ]
     },
     "execution_count": 104,
     "metadata": {},
     "output_type": "execute_result"
    }
   ],
   "source": [
    "my_list"
   ]
  },
  {
   "cell_type": "code",
   "execution_count": 120,
   "id": "c14ee4e9",
   "metadata": {},
   "outputs": [
    {
     "name": "stdout",
     "output_type": "stream",
     "text": [
      "30\n",
      "60\n"
     ]
    }
   ],
   "source": [
    "for x in my_list:\n",
    "    if x %6==0:\n",
    "        print(x)"
   ]
  },
  {
   "cell_type": "code",
   "execution_count": 121,
   "id": "d201b873",
   "metadata": {},
   "outputs": [],
   "source": [
    "number_list=[1,2,3,4,5,6,7,8,9,10]"
   ]
  },
  {
   "cell_type": "code",
   "execution_count": 123,
   "id": "8e8a52b1",
   "metadata": {},
   "outputs": [
    {
     "name": "stdout",
     "output_type": "stream",
     "text": [
      "1\n",
      "tek\n",
      "2\n",
      "çift\n",
      "3\n",
      "tek\n",
      "4\n",
      "çift\n",
      "5\n",
      "tek\n",
      "6\n",
      "çift\n",
      "7\n",
      "tek\n",
      "8\n",
      "çift\n",
      "9\n",
      "tek\n",
      "10\n",
      "çift\n"
     ]
    }
   ],
   "source": [
    "for num in number_list:\n",
    "    if num %2==0:\n",
    "        print(num)\n",
    "        print(\"çift\")\n",
    "    else:\n",
    "        print(num)\n",
    "        print(\"tek\")"
   ]
  },
  {
   "cell_type": "code",
   "execution_count": 124,
   "id": "9ecd9627",
   "metadata": {},
   "outputs": [],
   "source": [
    "asd =\"ege karaduman\""
   ]
  },
  {
   "cell_type": "code",
   "execution_count": 125,
   "id": "baa2d341",
   "metadata": {},
   "outputs": [
    {
     "name": "stdout",
     "output_type": "stream",
     "text": [
      "e\n",
      "g\n",
      "e\n",
      " \n",
      "k\n",
      "a\n",
      "r\n",
      "a\n",
      "d\n",
      "u\n",
      "m\n",
      "a\n",
      "n\n"
     ]
    }
   ],
   "source": [
    "for c in asd:\n",
    "    print(c)"
   ]
  },
  {
   "cell_type": "code",
   "execution_count": 126,
   "id": "eb2af646",
   "metadata": {},
   "outputs": [],
   "source": [
    "my_new_list=[(\"a\",\"b\"),(\"c\",\"d\"),(\"e\",\"f\"),(\"g\",\"h\")]"
   ]
  },
  {
   "cell_type": "code",
   "execution_count": 127,
   "id": "4ac2126b",
   "metadata": {},
   "outputs": [
    {
     "data": {
      "text/plain": [
       "4"
      ]
     },
     "execution_count": 127,
     "metadata": {},
     "output_type": "execute_result"
    }
   ],
   "source": [
    "len(my_new_list)"
   ]
  },
  {
   "cell_type": "code",
   "execution_count": 128,
   "id": "e1c09582",
   "metadata": {},
   "outputs": [
    {
     "name": "stdout",
     "output_type": "stream",
     "text": [
      "('a', 'b')\n",
      "('c', 'd')\n",
      "('e', 'f')\n",
      "('g', 'h')\n"
     ]
    }
   ],
   "source": [
    "for element in my_new_list:\n",
    "    print(element)"
   ]
  },
  {
   "cell_type": "code",
   "execution_count": 129,
   "id": "481d89de",
   "metadata": {},
   "outputs": [],
   "source": [
    "#tuple unpacking"
   ]
  },
  {
   "cell_type": "code",
   "execution_count": 134,
   "id": "4a866955",
   "metadata": {},
   "outputs": [
    {
     "data": {
      "text/plain": [
       "'g'"
      ]
     },
     "execution_count": 134,
     "metadata": {},
     "output_type": "execute_result"
    }
   ],
   "source": [
    "my_new_list[3][0]"
   ]
  },
  {
   "cell_type": "code",
   "execution_count": 137,
   "id": "19c09a50",
   "metadata": {},
   "outputs": [
    {
     "name": "stdout",
     "output_type": "stream",
     "text": [
      "a b\n",
      "c d\n",
      "e f\n",
      "g h\n"
     ]
    }
   ],
   "source": [
    "for (x,y) in my_new_list:\n",
    "    print(x,y)"
   ]
  },
  {
   "cell_type": "code",
   "execution_count": 139,
   "id": "9bbb2a35",
   "metadata": {},
   "outputs": [],
   "source": [
    "my_set={1,2,3,4,5}"
   ]
  },
  {
   "cell_type": "code",
   "execution_count": 140,
   "id": "d43369e6",
   "metadata": {},
   "outputs": [
    {
     "name": "stdout",
     "output_type": "stream",
     "text": [
      "1\n",
      "2\n",
      "3\n",
      "4\n",
      "5\n"
     ]
    }
   ],
   "source": [
    "for num in my_set:\n",
    "    print(num)"
   ]
  },
  {
   "cell_type": "code",
   "execution_count": 141,
   "id": "66adc0ad",
   "metadata": {},
   "outputs": [],
   "source": [
    "my_dictionary={\"k1\":100,\"k2\":200,\"k3\":300}"
   ]
  },
  {
   "cell_type": "code",
   "execution_count": 143,
   "id": "e45a074b",
   "metadata": {},
   "outputs": [
    {
     "name": "stdout",
     "output_type": "stream",
     "text": [
      "k1\n",
      "k2\n",
      "k3\n"
     ]
    }
   ],
   "source": [
    "for element in my_dictionary:\n",
    "    print(element)"
   ]
  },
  {
   "cell_type": "code",
   "execution_count": 146,
   "id": "360b6ab4",
   "metadata": {},
   "outputs": [
    {
     "data": {
      "text/plain": [
       "dict_items([('k1', 100), ('k2', 200), ('k3', 300)])"
      ]
     },
     "execution_count": 146,
     "metadata": {},
     "output_type": "execute_result"
    }
   ],
   "source": [
    "my_dictionary.items()"
   ]
  },
  {
   "cell_type": "code",
   "execution_count": 148,
   "id": "161abab9",
   "metadata": {},
   "outputs": [
    {
     "name": "stdout",
     "output_type": "stream",
     "text": [
      "100\n",
      "200\n",
      "300\n"
     ]
    }
   ],
   "source": [
    "for(key,value) in my_dictionary.items():\n",
    "    print(value)"
   ]
  },
  {
   "cell_type": "code",
   "execution_count": 149,
   "id": "3807063b",
   "metadata": {},
   "outputs": [],
   "source": [
    "my_list=[10,20,30,40,50,60,70]"
   ]
  },
  {
   "cell_type": "code",
   "execution_count": 150,
   "id": "04c9837b",
   "metadata": {},
   "outputs": [
    {
     "data": {
      "text/plain": [
       "[10, 20, 30, 40, 50, 60, 70]"
      ]
     },
     "execution_count": 150,
     "metadata": {},
     "output_type": "execute_result"
    }
   ],
   "source": [
    "my_list"
   ]
  },
  {
   "cell_type": "code",
   "execution_count": 152,
   "id": "615ec50f",
   "metadata": {},
   "outputs": [
    {
     "name": "stdout",
     "output_type": "stream",
     "text": [
      "yes\n"
     ]
    }
   ],
   "source": [
    "for num in my_list:\n",
    "    if num==40:\n",
    "        print(\"yes\")\n",
    "    "
   ]
  },
  {
   "cell_type": "code",
   "execution_count": 160,
   "id": "e28164ab",
   "metadata": {},
   "outputs": [
    {
     "name": "stdout",
     "output_type": "stream",
     "text": [
      "10\n",
      "çift\n",
      "20\n",
      "çift\n",
      "30\n",
      "çift\n",
      "40\n",
      "çift\n",
      "50\n",
      "çift\n",
      "60\n",
      "çift\n",
      "70\n",
      "çift\n"
     ]
    }
   ],
   "source": [
    "for num in my_list:\n",
    "    if num%2==0:\n",
    "        print(num)\n",
    "        print(\"çift\")\n",
    "    else:\n",
    "        print(\"tel\")"
   ]
  },
  {
   "cell_type": "code",
   "execution_count": 166,
   "id": "a0210f59",
   "metadata": {},
   "outputs": [
    {
     "name": "stdout",
     "output_type": "stream",
     "text": [
      "10\n",
      "20\n",
      "30\n",
      "40\n",
      "yes\n"
     ]
    }
   ],
   "source": [
    "for number in my_list:\n",
    "    print(number)\n",
    "    if number==40:\n",
    "        print(\"yes\")\n",
    "        break\n",
    "    "
   ]
  },
  {
   "cell_type": "code",
   "execution_count": 167,
   "id": "5a12caea",
   "metadata": {},
   "outputs": [
    {
     "name": "stdout",
     "output_type": "stream",
     "text": [
      "10\n",
      "yes\n",
      "20\n",
      "yes\n",
      "30\n",
      "yes\n",
      "40\n",
      "yes\n",
      "50\n",
      "yes\n",
      "60\n",
      "yes\n",
      "70\n",
      "yes\n"
     ]
    }
   ],
   "source": [
    "for num in my_list:\n",
    "    print(num)\n",
    "    if number==40:\n",
    "        print(\"yes\")\n",
    "        continue"
   ]
  },
  {
   "cell_type": "code",
   "execution_count": 173,
   "id": "7ec24385",
   "metadata": {},
   "outputs": [],
   "source": [
    "my_list=[10,20,30,40,50,60,70]"
   ]
  },
  {
   "cell_type": "code",
   "execution_count": 174,
   "id": "1f43aa66",
   "metadata": {},
   "outputs": [
    {
     "name": "stdout",
     "output_type": "stream",
     "text": [
      "10\n",
      "20\n",
      "30\n",
      "40\n",
      "50\n",
      "60\n",
      "70\n"
     ]
    }
   ],
   "source": [
    "for number in my_list:\n",
    "    print(number)\n",
    "    if number==40:\n",
    "        continue\n",
    "        print(\"yes\")\n",
    "        "
   ]
  },
  {
   "cell_type": "code",
   "execution_count": null,
   "id": "fb974100",
   "metadata": {},
   "outputs": [],
   "source": [
    "x=0"
   ]
  },
  {
   "cell_type": "code",
   "execution_count": null,
   "id": "9f871c4c",
   "metadata": {},
   "outputs": [],
   "source": [
    "while x<10:\n",
    "    print(x)\n",
    "    x=x+1"
   ]
  },
  {
   "cell_type": "code",
   "execution_count": null,
   "id": "e02b0c4e",
   "metadata": {},
   "outputs": [],
   "source": []
  }
 ],
 "metadata": {
  "kernelspec": {
   "display_name": "Python 3 (ipykernel)",
   "language": "python",
   "name": "python3"
  },
  "language_info": {
   "codemirror_mode": {
    "name": "ipython",
    "version": 3
   },
   "file_extension": ".py",
   "mimetype": "text/x-python",
   "name": "python",
   "nbconvert_exporter": "python",
   "pygments_lexer": "ipython3",
   "version": "3.11.5"
  }
 },
 "nbformat": 4,
 "nbformat_minor": 5
}
