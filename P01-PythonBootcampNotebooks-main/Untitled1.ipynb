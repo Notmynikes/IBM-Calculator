{
 "cells": [
  {
   "cell_type": "code",
   "execution_count": 10,
   "id": "869e7cea",
   "metadata": {},
   "outputs": [],
   "source": [
    "x=0"
   ]
  },
  {
   "cell_type": "code",
   "execution_count": 11,
   "id": "e1cc046f",
   "metadata": {},
   "outputs": [
    {
     "name": "stdout",
     "output_type": "stream",
     "text": [
      "0\n",
      "1\n",
      "2\n",
      "3\n",
      "4\n",
      "5\n",
      "6\n",
      "7\n",
      "8\n",
      "9\n"
     ]
    }
   ],
   "source": [
    "while x<10:\n",
    "    print(x)\n",
    "    x=x+1"
   ]
  },
  {
   "cell_type": "code",
   "execution_count": 12,
   "id": "965e31d8",
   "metadata": {},
   "outputs": [],
   "source": [
    "my_list=[10,20,30]"
   ]
  },
  {
   "cell_type": "code",
   "execution_count": 15,
   "id": "0a9332b0",
   "metadata": {},
   "outputs": [
    {
     "name": "stdout",
     "output_type": "stream",
     "text": [
      "my_list\n"
     ]
    }
   ],
   "source": [
    "print(\"my_list\")"
   ]
  },
  {
   "cell_type": "code",
   "execution_count": 17,
   "id": "0bacee42",
   "metadata": {},
   "outputs": [
    {
     "name": "stdout",
     "output_type": "stream",
     "text": [
      "my_list:[10, 20, 30]\n"
     ]
    }
   ],
   "source": [
    "print(f\"my_list:{my_list}\")"
   ]
  },
  {
   "cell_type": "code",
   "execution_count": 23,
   "id": "045bed89",
   "metadata": {},
   "outputs": [
    {
     "name": "stdout",
     "output_type": "stream",
     "text": [
      "enter name:ege\n"
     ]
    }
   ],
   "source": [
    "name=input(\"enter name:\")"
   ]
  },
  {
   "cell_type": "code",
   "execution_count": 24,
   "id": "38fe0a4e",
   "metadata": {},
   "outputs": [
    {
     "name": "stdout",
     "output_type": "stream",
     "text": [
      "welcome:ege\n"
     ]
    }
   ],
   "source": [
    "print(f\"welcome:{name}\")"
   ]
  },
  {
   "cell_type": "code",
   "execution_count": 25,
   "id": "c4ac9376",
   "metadata": {},
   "outputs": [
    {
     "name": "stdout",
     "output_type": "stream",
     "text": [
      "welcome ege\n"
     ]
    }
   ],
   "source": [
    "print(\"welcome\",name)"
   ]
  }
 ],
 "metadata": {
  "kernelspec": {
   "display_name": "Python 3 (ipykernel)",
   "language": "python",
   "name": "python3"
  },
  "language_info": {
   "codemirror_mode": {
    "name": "ipython",
    "version": 3
   },
   "file_extension": ".py",
   "mimetype": "text/x-python",
   "name": "python",
   "nbconvert_exporter": "python",
   "pygments_lexer": "ipython3",
   "version": "3.11.5"
  }
 },
 "nbformat": 4,
 "nbformat_minor": 5
}
